{
 "cells": [
  {
   "cell_type": "code",
   "execution_count": 1,
   "metadata": {},
   "outputs": [],
   "source": [
    "from scipy import stats\n",
    "import numpy as np"
   ]
  },
  {
   "cell_type": "code",
   "execution_count": 2,
   "metadata": {},
   "outputs": [],
   "source": [
    "def ttest(moments, iters, msg):\n",
    "    t = np.sqrt(iter)*moments.mean/np.sqrt(moments.variance)\n",
    "    p = 2*(1-stats.t.cdf(abs(t), df=iters-1)) # degrees of freedom\n",
    "    print(\"p-value ({}) : {}\".format(msg, p))"
   ]
  },
  {
   "cell_type": "code",
   "execution_count": 3,
   "metadata": {},
   "outputs": [],
   "source": [
    "sample_size = 10000\n",
    "iters = 100\n",
    "\n",
    "skew = np.zeros([iters, 1])\n",
    "kurt = np.zeros([iters, 1])\n",
    "skew_d = np.zeros([iters, 1])\n",
    "kurt_d = np.zeros([iters, 1])\n",
    "\n",
    "for i in range(iters):\n",
    "    samples = stats.norm.rvs(size=sample_size)\n",
    "    skew[i] = stats.skew(samples, bias=False)\n",
    "    kurt[i] = stats.kurtosis(samples, fisher=True, bias=False)\n",
    "    des = stats.describe(samples)\n",
    "    skew_d[i] = des.skewness\n",
    "    kurt_d[i] = des.kurtosis\n",
    "\n",
    "moments_skew = stats.describe(skew)\n",
    "print(stats.describe(skew))\n",
    "print(stats.describe(kurt))\n",
    "print(stats.describe(skew_d))\n",
    "print(stats.describe(kurt_d))"
   ]
  }
 ],
 "metadata": {
  "kernelspec": {
   "display_name": "Python 3",
   "language": "python",
   "name": "python3"
  },
  "language_info": {
   "codemirror_mode": {
    "name": "ipython",
    "version": 3
   },
   "file_extension": ".py",
   "mimetype": "text/x-python",
   "name": "python",
   "nbconvert_exporter": "python",
   "pygments_lexer": "ipython3",
   "version": "3.10.13"
  }
 },
 "nbformat": 4,
 "nbformat_minor": 2
}
